{
 "cells": [
  {
   "cell_type": "code",
   "execution_count": 1,
   "metadata": {},
   "outputs": [],
   "source": [
    "%reload_ext cairo_jupyter"
   ]
  },
  {
   "cell_type": "code",
   "execution_count": 2,
   "metadata": {},
   "outputs": [],
   "source": [
    "def print_current_path(cr):\n",
    "    \"\"\"\n",
    "    Iterate path and display elements.\n",
    "    \"\"\"\n",
    "    path = cr.copy_path()\n",
    "    for t, points in path:\n",
    "        if t == cairo.PATH_MOVE_TO:\n",
    "            x, y = points\n",
    "            print(\"move_to\", x, y)\n",
    "\n",
    "        elif t == cairo.PATH_LINE_TO:\n",
    "            x, y = points\n",
    "            print(\"line_to\", x, y)\n",
    "\n",
    "        elif t == cairo.PATH_CURVE_TO:\n",
    "            x1, y1, x2, y2, x3, y3 = points\n",
    "            print(\"curve_to\", x1, y1, x2, y2, x3, y3)\n",
    "\n",
    "        elif t == cairo.PATH_CLOSE_PATH:\n",
    "            print(\"close_path\")"
   ]
  },
  {
   "cell_type": "code",
   "execution_count": 38,
   "metadata": {},
   "outputs": [],
   "source": [
    "# Setup cairo surface and provide a function to clear it\n",
    "import cairocffi as cairo\n",
    "\n",
    "WIDTH, HEIGHT = 200, 200\n",
    "YELLOW = (0.8, 0.8, 0)\n",
    "WHITE = (1.0, 1.0, 1.0)\n",
    "\n",
    "surface = cairo.ImageSurface(cairo.FORMAT_ARGB32, WIDTH, HEIGHT)\n",
    "\n",
    "def clear(cr, color=WHITE):\n",
    "    cr.set_source_rgb(*color)\n",
    "    cr.paint()\n",
    "    cr.set_source_rgb(*YELLOW)\n",
    "\n",
    "\n",
    "# Work will be on the drawing context 'cr' from now on\n",
    "cr = cairo.Context(surface)"
   ]
  },
  {
   "cell_type": "code",
   "execution_count": 4,
   "metadata": {},
   "outputs": [
    {
     "name": "stdout",
     "output_type": "stream",
     "text": [
      "move_to 0.0 0.0\n",
      "line_to 40.0 0.0\n",
      "line_to 40.0 40.0\n",
      "line_to 0.0 40.0\n",
      "close_path\n",
      "move_to 0.0 0.0\n"
     ]
    },
    {
     "data": {
      "image/png": "[encoded data removed]",
      "text/plain": [
       "<cairocffi.context.Context at 0x7f5e877a2400>"
      ]
     },
     "metadata": {},
     "output_type": "display_data"
    }
   ],
   "source": [
    "clear(cr)\n",
    "cr.rectangle(0, 0, 40, 40)\n",
    "\n",
    "print_current_path(cr)\n",
    "\n",
    "cr.fill()\n",
    "display(cr)"
   ]
  },
  {
   "cell_type": "code",
   "execution_count": 32,
   "metadata": {},
   "outputs": [
    {
     "name": "stdout",
     "output_type": "stream",
     "text": [
      "move_to 50.0 10.0\n",
      "curve_to 63.91796875 10.0 76.83203125 17.234375 84.10546875 29.1015625\n",
      "curve_to 91.37890625 40.96484375 91.95703125 55.7578125 85.640625 68.16015625\n",
      "curve_to 79.3203125 80.55859375 67.01171875 88.78515625 53.13671875 89.875\n",
      "curve_to 39.265625 90.96875 25.8203125 84.76953125 17.640625 73.51171875\n",
      "close_path\n",
      "move_to 50.0 10.0\n"
     ]
    },
    {
     "data": {
      "image/png": "[encoded data removed]",
      "text/plain": [
       "<cairocffi.context.Context at 0x7f5e87734470>"
      ]
     },
     "metadata": {},
     "output_type": "display_data"
    }
   ],
   "source": [
    "import math\n",
    "\n",
    "clear(cr)\n",
    "\n",
    "cr.arc(50, 50, 40, -math.pi * 0.5, math.pi * 0.8)\n",
    "cr.close_path()\n",
    "\n",
    "print_current_path(cr)\n",
    "\n",
    "cr.fill()\n",
    "display(cr)"
   ]
  },
  {
   "cell_type": "code",
   "execution_count": 34,
   "metadata": {},
   "outputs": [],
   "source": [
    "def roundedrec(context,x,y,w,h,r = 10):\n",
    "    \"Draw a rounded rectangle\"\n",
    "    #   A****BQ\n",
    "    #  H      C\n",
    "    #  *      *\n",
    "    #  G      D\n",
    "    #   F****E\n",
    "\n",
    "    context.move_to(x+r,y)                      # Move to A\n",
    "    context.line_to(x+w-r,y)                    # Straight line to B\n",
    "    context.curve_to(x+w,y,x+w,y,x+w,y+r)       # Curve to C, Control points are both at Q\n",
    "    context.line_to(x+w,y+h-r)                  # Move to D\n",
    "    context.curve_to(x+w,y+h,x+w,y+h,x+w-r,y+h) # Curve to E\n",
    "    context.line_to(x+r,y+h)                    # Line to F\n",
    "    context.curve_to(x,y+h,x,y+h,x,y+h-r)       # Curve to G\n",
    "    context.line_to(x,y+r)                      # Line to H\n",
    "    context.curve_to(x,y,x,y,x+r,y)             # Curve to A\n",
    "    return"
   ]
  },
  {
   "cell_type": "code",
   "execution_count": 37,
   "metadata": {},
   "outputs": [
    {
     "name": "stdout",
     "output_type": "stream",
     "text": [
      "move_to 50.0 0.0\n",
      "line_to 150.0 0.0\n",
      "curve_to 200.0 0.0 200.0 0.0 200.0 50.0\n",
      "line_to 200.0 150.0\n",
      "curve_to 200.0 200.0 200.0 200.0 150.0 200.0\n",
      "line_to 50.0 200.0\n",
      "curve_to 0.0 200.0 0.0 200.0 0.0 150.0\n",
      "line_to 0.0 50.0\n",
      "curve_to 0.0 0.0 0.0 0.0 50.0 0.0\n"
     ]
    },
    {
     "data": {
      "image/png": "[encoded data removed]",
      "text/plain": [
       "<cairocffi.context.Context at 0x7f5e87734470>"
      ]
     },
     "metadata": {},
     "output_type": "display_data"
    }
   ],
   "source": [
    "clear(cr)\n",
    "\n",
    "roundedrec(cr, 0, 0, WIDTH, HEIGHT, 50)\n",
    "\n",
    "print_current_path(cr)\n",
    "\n",
    "cr.fill()\n",
    "display(cr)"
   ]
  }
 ],
 "metadata": {
  "kernelspec": {
   "display_name": "Python 3",
   "language": "python",
   "name": "python3"
  },
  "language_info": {
   "codemirror_mode": {
    "name": "ipython",
    "version": 3
   },
   "file_extension": ".py",
   "mimetype": "text/x-python",
   "name": "python",
   "nbconvert_exporter": "python",
   "pygments_lexer": "ipython3",
   "version": "3.6.5"
  }
 },
 "nbformat": 4,
 "nbformat_minor": 1
}
